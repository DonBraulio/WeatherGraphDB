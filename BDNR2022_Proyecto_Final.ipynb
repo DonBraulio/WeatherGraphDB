{
 "cells": [
  {
   "cell_type": "markdown",
   "metadata": {},
   "source": [
    "# Bases de Datos No Relacionales\n",
    "\n",
    "## Proyecto Final - López & Ríos"
   ]
  },
  {
   "cell_type": "code",
   "execution_count": 1,
   "metadata": {},
   "outputs": [
    {
     "data": {
      "application/javascript": [
       "var link = document.createElement(\"link\");\n",
       "\tlink.ref = \"stylesheet\";\n",
       "\tlink.type = \"text/css\";\n",
       "\tlink.href = \"https://cdnjs.cloudflare.com/ajax/libs/vis/4.8.2/vis.css\";\n",
       "\tdocument.head.appendChild(link);\n",
       "require.config({     paths: {         vis: '//cdnjs.cloudflare.com/ajax/libs/vis/4.8.2/vis.min'     } }); require(['vis'], function(vis) {  window.vis = vis; }); "
      ],
      "text/plain": [
       "<IPython.core.display.Javascript object>"
      ]
     },
     "metadata": {},
     "output_type": "display_data"
    },
    {
     "name": "stdout",
     "output_type": "stream",
     "text": [
      "py2neo version 2021.2.3\n"
     ]
    }
   ],
   "source": [
    "\n",
    "#Comenzamos por importar las bibliotecas necesarias \n",
    "\n",
    "import os\n",
    "import pandas as pd\n",
    "import numpy as np\n",
    "import matplotlib.pyplot as plt\n",
    "import time\n",
    "\n",
    "#permite conectarse a la BD \n",
    "#Fuente: https://py2neo.org/2021.1/\n",
    "import py2neo\n",
    "from py2neo import Graph,Node,Relationship\n",
    "\n",
    "#permite representar gráficamente los grafos obtenidos \n",
    "#Fuente: https://github.com/merqurio/neo4jupyter\n",
    "import neo4jupyter\n",
    "neo4jupyter.init_notebook_mode()\n",
    "\n",
    "\n",
    "print ('py2neo version', py2neo.__version__)\n"
   ]
  },
  {
   "cell_type": "code",
   "execution_count": 2,
   "metadata": {},
   "outputs": [],
   "source": [
    "#estos son los parámetros para la conexión a una instancia de Neo4j que se ejecuta localmente \n",
    "#y en el puerto por defecto\n",
    "#si van a utilizar otra opción deben ajustar los parámetros\n",
    "\n",
    "\n",
    "#indica la url de la BD\n",
    "#dburl='http://localhost:7474'\n",
    "dburl='bolt://127.0.0.1:7687'\n",
    "user='neo4j'\n",
    "pasw='bdnr'\n",
    "\n",
    "graph = Graph(dburl, auth=(user, pasw))"
   ]
  },
  {
   "cell_type": "code",
   "execution_count": 3,
   "metadata": {},
   "outputs": [],
   "source": [
    "def evaluate_query(query, n=3):\n",
    "    \n",
    "    # Ejecuta n consultas y mide el tiempo de cada una\n",
    "    exec_times = np.zeros(n)\n",
    "    run_result = None\n",
    "    for i in range(n):\n",
    "        st = time.time()\n",
    "        run_result = graph.run(query)\n",
    "        \n",
    "        # get the execution time for this round\n",
    "        exec_times[i] = time.time() - st\n",
    "    \n",
    "    mean_time = exec_times.mean()\n",
    "    std_error = exec_times.std()\n",
    "    \n",
    "    print(f\"Execution times: {list(exec_times)}\")\n",
    "    print(f'Execution time per round: {mean_time:.4f}±{std_error:.4f}s ({100*std_error/mean_time:.2f}%)')\n",
    "    \n",
    "    return run_result.to_data_frame(), exec_times"
   ]
  },
  {
   "cell_type": "code",
   "execution_count": 4,
   "metadata": {},
   "outputs": [],
   "source": [
    "def plot_exec_times(times_list, labels_list):\n",
    "    fig = plt.figure(figsize=(10, 6))\n",
    "    for k, exec_times in enumerate(times_list):\n",
    "        plt.plot(exec_times, label=labels_list[k])\n",
    "    plt.xlabel(\"# run\")\n",
    "    plt.ylabel(\"Execution time (s)\")\n",
    "    plt.legend()"
   ]
  },
  {
   "cell_type": "code",
   "execution_count": 5,
   "metadata": {
    "scrolled": false
   },
   "outputs": [
    {
     "name": "stdout",
     "output_type": "stream",
     "text": [
      "Búsqueda por nodos, sin índices...\n",
      "Execution times: [18.19346046447754, 16.86254596710205, 16.265626430511475]\n",
      "Execution time per round: 17.1072±0.8058s (4.71%)\n",
      "\n",
      "\n",
      "Búsqueda por vértices, sin índices...\n",
      "Execution times: [26.35221219062805, 11.954726934432983, 14.061689376831055]\n",
      "Execution time per round: 17.4562±6.3490s (36.37%)\n"
     ]
    },
    {
     "data": {
      "text/html": [
       "<div>\n",
       "<style scoped>\n",
       "    .dataframe tbody tr th:only-of-type {\n",
       "        vertical-align: middle;\n",
       "    }\n",
       "\n",
       "    .dataframe tbody tr th {\n",
       "        vertical-align: top;\n",
       "    }\n",
       "\n",
       "    .dataframe thead th {\n",
       "        text-align: right;\n",
       "    }\n",
       "</style>\n",
       "<table border=\"1\" class=\"dataframe\">\n",
       "  <thead>\n",
       "    <tr style=\"text-align: right;\">\n",
       "      <th></th>\n",
       "      <th>s</th>\n",
       "      <th>m</th>\n",
       "    </tr>\n",
       "  </thead>\n",
       "  <tbody>\n",
       "    <tr>\n",
       "      <th>0</th>\n",
       "      <td>{'latitude': -20.44444, 'name': 'MS/A756/AGUA ...</td>\n",
       "      <td>{'station_name': 'MS/A756/AGUA CLARA', 'date':...</td>\n",
       "    </tr>\n",
       "    <tr>\n",
       "      <th>1</th>\n",
       "      <td>{'latitude': -15.902658, 'name': 'GO/A013/ARAG...</td>\n",
       "      <td>{'station_name': 'GO/A013/ARAGARCAS', 'date': ...</td>\n",
       "    </tr>\n",
       "    <tr>\n",
       "      <th>2</th>\n",
       "      <td>{'latitude': -13.41111111, 'name': 'MT/A929/NO...</td>\n",
       "      <td>{'station_name': 'MT/A929/NOVA UBIRATA', 'date...</td>\n",
       "    </tr>\n",
       "    <tr>\n",
       "      <th>3</th>\n",
       "      <td>{'latitude': -14.13305554, 'station': 'ALTO PA...</td>\n",
       "      <td>{'date': 2019-01-01, 'station_name': 'GO/A024/...</td>\n",
       "    </tr>\n",
       "    <tr>\n",
       "      <th>4</th>\n",
       "      <td>{'latitude': -19.69527777, 'name': 'MS/A710/PA...</td>\n",
       "      <td>{'station_name': 'MS/A710/PARANAIBA', 'date': ...</td>\n",
       "    </tr>\n",
       "    <tr>\n",
       "      <th>...</th>\n",
       "      <td>...</td>\n",
       "      <td>...</td>\n",
       "    </tr>\n",
       "    <tr>\n",
       "      <th>107</th>\n",
       "      <td>{'latitude': -22.57527777, 'name': 'MS/S711/LA...</td>\n",
       "      <td>{'station_name': 'MS/S711/LAGUNA CARAPA', 'dat...</td>\n",
       "    </tr>\n",
       "    <tr>\n",
       "      <th>108</th>\n",
       "      <td>{'latitude': -18.802187, 'name': 'MS/A730/CHAP...</td>\n",
       "      <td>{'station_name': 'MS/A730/CHAPADAO DO SUL', 'd...</td>\n",
       "    </tr>\n",
       "    <tr>\n",
       "      <th>109</th>\n",
       "      <td>{'latitude': -17.785303, 'name': 'GO/A025/RIO ...</td>\n",
       "      <td>{'station_name': 'GO/A025/RIO VERDE', 'date': ...</td>\n",
       "    </tr>\n",
       "    <tr>\n",
       "      <th>110</th>\n",
       "      <td>{'latitude': -22.09277777, 'name': 'MS/S710/IT...</td>\n",
       "      <td>{'station_name': 'MS/S710/ITAPORA', 'date': 20...</td>\n",
       "    </tr>\n",
       "    <tr>\n",
       "      <th>111</th>\n",
       "      <td>{'latitude': -17.81555555, 'name': 'MT/A934/AL...</td>\n",
       "      <td>{'station_name': 'MT/A934/ALTO TAQUARI', 'date...</td>\n",
       "    </tr>\n",
       "  </tbody>\n",
       "</table>\n",
       "<p>112 rows × 2 columns</p>\n",
       "</div>"
      ],
      "text/plain": [
       "                                                     s  \\\n",
       "0    {'latitude': -20.44444, 'name': 'MS/A756/AGUA ...   \n",
       "1    {'latitude': -15.902658, 'name': 'GO/A013/ARAG...   \n",
       "2    {'latitude': -13.41111111, 'name': 'MT/A929/NO...   \n",
       "3    {'latitude': -14.13305554, 'station': 'ALTO PA...   \n",
       "4    {'latitude': -19.69527777, 'name': 'MS/A710/PA...   \n",
       "..                                                 ...   \n",
       "107  {'latitude': -22.57527777, 'name': 'MS/S711/LA...   \n",
       "108  {'latitude': -18.802187, 'name': 'MS/A730/CHAP...   \n",
       "109  {'latitude': -17.785303, 'name': 'GO/A025/RIO ...   \n",
       "110  {'latitude': -22.09277777, 'name': 'MS/S710/IT...   \n",
       "111  {'latitude': -17.81555555, 'name': 'MT/A934/AL...   \n",
       "\n",
       "                                                     m  \n",
       "0    {'station_name': 'MS/A756/AGUA CLARA', 'date':...  \n",
       "1    {'station_name': 'GO/A013/ARAGARCAS', 'date': ...  \n",
       "2    {'station_name': 'MT/A929/NOVA UBIRATA', 'date...  \n",
       "3    {'date': 2019-01-01, 'station_name': 'GO/A024/...  \n",
       "4    {'station_name': 'MS/A710/PARANAIBA', 'date': ...  \n",
       "..                                                 ...  \n",
       "107  {'station_name': 'MS/S711/LAGUNA CARAPA', 'dat...  \n",
       "108  {'station_name': 'MS/A730/CHAPADAO DO SUL', 'd...  \n",
       "109  {'station_name': 'GO/A025/RIO VERDE', 'date': ...  \n",
       "110  {'station_name': 'MS/S710/ITAPORA', 'date': 20...  \n",
       "111  {'station_name': 'MT/A934/ALTO TAQUARI', 'date...  \n",
       "\n",
       "[112 rows x 2 columns]"
      ]
     },
     "execution_count": 5,
     "metadata": {},
     "output_type": "execute_result"
    }
   ],
   "source": [
    "# Evaluate query time without index\n",
    "graph.run(\"DROP INDEX meas_hour IF EXISTS\")\n",
    "graph.run(\"DROP INDEX meas_date IF EXISTS\")\n",
    "\n",
    "# Búsqueda por nodos\n",
    "print(\"Búsqueda por nodos, sin índices...\")\n",
    "query_date_time_nodes = \"\"\"MATCH (s:Station)-->(m:Measurement)\n",
    "                           WHERE m.hour = time(\"2:00\") AND m.date = date(\"2019-01-01\")\n",
    "                           RETURN s, m\"\"\"\n",
    "res_1, times_1 = evaluate_query(query_date_time_nodes)\n",
    "\n",
    "\n",
    "# Búsqueda por edges\n",
    "print(\"\\n\\nBúsqueda por vértices, sin índices...\")\n",
    "query_date_time_edges = \"\"\"MATCH (s:Station)\n",
    "                        -[:MEASURED{hour: time(\"2:00\"), date:date(\"2019-01-01\")}]\n",
    "                        ->(m:Measurement)\n",
    "                        RETURN m,s\"\"\"\n",
    "res_2, times_2 = evaluate_query(query_date_time_edges)\n",
    "\n",
    "assert len(res_1) == len(res_2)\n",
    "res_1"
   ]
  },
  {
   "cell_type": "markdown",
   "metadata": {},
   "source": [
    "## Crear subgrafo temporal"
   ]
  },
  {
   "cell_type": "code",
   "execution_count": 6,
   "metadata": {},
   "outputs": [],
   "source": [
    "def delete_nodes_transactions(node_match=\"Year{name:2000}\"):\n",
    "    query = f\"\"\"MATCH (p:{node_match})\n",
    "                CALL {{\n",
    "                  WITH p\n",
    "                  DETACH DELETE p\n",
    "                }}\n",
    "                IN TRANSACTIONS OF 10000 ROWS\n",
    "                RETURN COUNT(p)\n",
    "                \"\"\"\n",
    "    # print(query)\n",
    "    res = graph.run(query)\n",
    "    res = 0 if res is None else next(res)[0]\n",
    "    print(f\"Deleted nodes matching :{node_match} : {res}\")\n"
   ]
  },
  {
   "cell_type": "code",
   "execution_count": 7,
   "metadata": {},
   "outputs": [
    {
     "ename": "DatabaseError",
     "evalue": "[Transaction.TransactionCommitFailed] The transaction cannot be committed when it has open inner transactions.",
     "output_type": "error",
     "traceback": [
      "\u001b[1;31m---------------------------------------------------------------------------\u001b[0m",
      "\u001b[1;31mDatabaseError\u001b[0m                             Traceback (most recent call last)",
      "File \u001b[1;32m<timed exec>:2\u001b[0m, in \u001b[0;36m<module>\u001b[1;34m\u001b[0m\n",
      "Input \u001b[1;32mIn [6]\u001b[0m, in \u001b[0;36mdelete_nodes_transactions\u001b[1;34m(node_match)\u001b[0m\n\u001b[0;32m      2\u001b[0m query \u001b[38;5;241m=\u001b[39m \u001b[38;5;124mf\u001b[39m\u001b[38;5;124m\"\"\"\u001b[39m\u001b[38;5;124mMATCH (p:\u001b[39m\u001b[38;5;132;01m{\u001b[39;00mnode_match\u001b[38;5;132;01m}\u001b[39;00m\u001b[38;5;124m)\u001b[39m\n\u001b[0;32m      3\u001b[0m \u001b[38;5;124m            CALL \u001b[39m\u001b[38;5;130;01m{{\u001b[39;00m\n\u001b[0;32m      4\u001b[0m \u001b[38;5;124m              WITH p\u001b[39m\n\u001b[1;32m   (...)\u001b[0m\n\u001b[0;32m      8\u001b[0m \u001b[38;5;124m            RETURN COUNT(p)\u001b[39m\n\u001b[0;32m      9\u001b[0m \u001b[38;5;124m            \u001b[39m\u001b[38;5;124m\"\"\"\u001b[39m\n\u001b[0;32m     10\u001b[0m \u001b[38;5;66;03m# print(query)\u001b[39;00m\n\u001b[1;32m---> 11\u001b[0m res \u001b[38;5;241m=\u001b[39m \u001b[43mgraph\u001b[49m\u001b[38;5;241;43m.\u001b[39;49m\u001b[43mrun\u001b[49m\u001b[43m(\u001b[49m\u001b[43mquery\u001b[49m\u001b[43m)\u001b[49m\n\u001b[0;32m     12\u001b[0m res \u001b[38;5;241m=\u001b[39m \u001b[38;5;241m0\u001b[39m \u001b[38;5;28;01mif\u001b[39;00m res \u001b[38;5;129;01mis\u001b[39;00m \u001b[38;5;28;01mNone\u001b[39;00m \u001b[38;5;28;01melse\u001b[39;00m \u001b[38;5;28mnext\u001b[39m(res)[\u001b[38;5;241m0\u001b[39m]\n\u001b[0;32m     13\u001b[0m \u001b[38;5;28mprint\u001b[39m(\u001b[38;5;124mf\u001b[39m\u001b[38;5;124m\"\u001b[39m\u001b[38;5;124mDeleted nodes matching :\u001b[39m\u001b[38;5;132;01m{\u001b[39;00mnode_match\u001b[38;5;132;01m}\u001b[39;00m\u001b[38;5;124m : \u001b[39m\u001b[38;5;132;01m{\u001b[39;00mres\u001b[38;5;132;01m}\u001b[39;00m\u001b[38;5;124m\"\u001b[39m)\n",
      "File \u001b[1;32m~\\anaconda3\\lib\\site-packages\\py2neo\\database.py:405\u001b[0m, in \u001b[0;36mGraph.run\u001b[1;34m(self, cypher, parameters, **kwparameters)\u001b[0m\n\u001b[0;32m    395\u001b[0m \u001b[38;5;28;01mdef\u001b[39;00m \u001b[38;5;21mrun\u001b[39m(\u001b[38;5;28mself\u001b[39m, cypher, parameters\u001b[38;5;241m=\u001b[39m\u001b[38;5;28;01mNone\u001b[39;00m, \u001b[38;5;241m*\u001b[39m\u001b[38;5;241m*\u001b[39mkwparameters):\n\u001b[0;32m    396\u001b[0m     \u001b[38;5;124;03m\"\"\" Run a single read/write query within an auto-commit\u001b[39;00m\n\u001b[0;32m    397\u001b[0m \u001b[38;5;124;03m    :class:`~py2neo.Transaction`.\u001b[39;00m\n\u001b[0;32m    398\u001b[0m \n\u001b[1;32m   (...)\u001b[0m\n\u001b[0;32m    403\u001b[0m \u001b[38;5;124;03m    :return:\u001b[39;00m\n\u001b[0;32m    404\u001b[0m \u001b[38;5;124;03m    \"\"\"\u001b[39;00m\n\u001b[1;32m--> 405\u001b[0m     \u001b[38;5;28;01mreturn\u001b[39;00m \u001b[38;5;28mself\u001b[39m\u001b[38;5;241m.\u001b[39mauto()\u001b[38;5;241m.\u001b[39mrun(cypher, parameters, \u001b[38;5;241m*\u001b[39m\u001b[38;5;241m*\u001b[39mkwparameters)\n",
      "File \u001b[1;32m~\\anaconda3\\lib\\site-packages\\py2neo\\database.py:992\u001b[0m, in \u001b[0;36mTransaction.run\u001b[1;34m(self, cypher, parameters, **kwparameters)\u001b[0m\n\u001b[0;32m    988\u001b[0m     \u001b[38;5;28;01melse\u001b[39;00m:\n\u001b[0;32m    989\u001b[0m         result \u001b[38;5;241m=\u001b[39m \u001b[38;5;28mself\u001b[39m\u001b[38;5;241m.\u001b[39m_connector\u001b[38;5;241m.\u001b[39mauto_run(cypher, parameters,\n\u001b[0;32m    990\u001b[0m                                           graph_name\u001b[38;5;241m=\u001b[39m\u001b[38;5;28mself\u001b[39m\u001b[38;5;241m.\u001b[39mgraph\u001b[38;5;241m.\u001b[39mname,\n\u001b[0;32m    991\u001b[0m                                           readonly\u001b[38;5;241m=\u001b[39m\u001b[38;5;28mself\u001b[39m\u001b[38;5;241m.\u001b[39mreadonly)\n\u001b[1;32m--> 992\u001b[0m     \u001b[38;5;28;43mself\u001b[39;49m\u001b[38;5;241;43m.\u001b[39;49m\u001b[43m_connector\u001b[49m\u001b[38;5;241;43m.\u001b[39;49m\u001b[43mpull\u001b[49m\u001b[43m(\u001b[49m\u001b[43mresult\u001b[49m\u001b[43m,\u001b[49m\u001b[43m \u001b[49m\u001b[38;5;241;43m-\u001b[39;49m\u001b[38;5;241;43m1\u001b[39;49m\u001b[43m)\u001b[49m\n\u001b[0;32m    993\u001b[0m     \u001b[38;5;28;01mreturn\u001b[39;00m Cursor(result, hydrant)\n\u001b[0;32m    994\u001b[0m \u001b[38;5;28;01mfinally\u001b[39;00m:\n",
      "File \u001b[1;32m~\\anaconda3\\lib\\site-packages\\py2neo\\client\\__init__.py:1434\u001b[0m, in \u001b[0;36mConnector.pull\u001b[1;34m(self, result, n)\u001b[0m\n\u001b[0;32m   1432\u001b[0m cx \u001b[38;5;241m=\u001b[39m \u001b[38;5;28mself\u001b[39m\u001b[38;5;241m.\u001b[39m_reacquire(result\u001b[38;5;241m.\u001b[39mtransaction)\n\u001b[0;32m   1433\u001b[0m \u001b[38;5;28;01mtry\u001b[39;00m:\n\u001b[1;32m-> 1434\u001b[0m     \u001b[43mcx\u001b[49m\u001b[38;5;241;43m.\u001b[39;49m\u001b[43mpull\u001b[49m\u001b[43m(\u001b[49m\u001b[43mresult\u001b[49m\u001b[43m,\u001b[49m\u001b[43m \u001b[49m\u001b[43mn\u001b[49m\u001b[38;5;241;43m=\u001b[39;49m\u001b[43mn\u001b[49m\u001b[43m)\u001b[49m\n\u001b[0;32m   1435\u001b[0m \u001b[38;5;28;01mexcept\u001b[39;00m (ConnectionUnavailable, ConnectionBroken):\n\u001b[0;32m   1436\u001b[0m     \u001b[38;5;28mself\u001b[39m\u001b[38;5;241m.\u001b[39mprune(cx\u001b[38;5;241m.\u001b[39mprofile)\n",
      "File \u001b[1;32m~\\anaconda3\\lib\\site-packages\\py2neo\\client\\bolt.py:1001\u001b[0m, in \u001b[0;36mBolt4x0.pull\u001b[1;34m(self, result, n, capacity)\u001b[0m\n\u001b[0;32m    998\u001b[0m     raise_from(ConnectionBroken(\u001b[38;5;124m\"\u001b[39m\u001b[38;5;124mTransaction broken by disconnection \u001b[39m\u001b[38;5;124m\"\u001b[39m\n\u001b[0;32m    999\u001b[0m                                 \u001b[38;5;124m\"\u001b[39m\u001b[38;5;124mduring pull\u001b[39m\u001b[38;5;124m\"\u001b[39m), error)\n\u001b[0;32m   1000\u001b[0m \u001b[38;5;28;01melse\u001b[39;00m:\n\u001b[1;32m-> 1001\u001b[0m     \u001b[38;5;28;43mself\u001b[39;49m\u001b[38;5;241;43m.\u001b[39;49m\u001b[43m_audit\u001b[49m\u001b[43m(\u001b[49m\u001b[38;5;28;43mself\u001b[39;49m\u001b[38;5;241;43m.\u001b[39;49m\u001b[43m_transaction\u001b[49m\u001b[43m)\u001b[49m\n\u001b[0;32m   1002\u001b[0m     \u001b[38;5;28;01mreturn\u001b[39;00m response\n",
      "File \u001b[1;32m~\\anaconda3\\lib\\site-packages\\py2neo\\client\\bolt.py:810\u001b[0m, in \u001b[0;36mBolt1._audit\u001b[1;34m(self, task)\u001b[0m\n\u001b[0;32m    808\u001b[0m     \u001b[38;5;28;01mreturn\u001b[39;00m\n\u001b[0;32m    809\u001b[0m \u001b[38;5;28;01mtry\u001b[39;00m:\n\u001b[1;32m--> 810\u001b[0m     \u001b[43mtask\u001b[49m\u001b[38;5;241;43m.\u001b[39;49m\u001b[43maudit\u001b[49m\u001b[43m(\u001b[49m\u001b[43m)\u001b[49m\n\u001b[0;32m    811\u001b[0m \u001b[38;5;28;01mexcept\u001b[39;00m Neo4jError:\n\u001b[0;32m    812\u001b[0m     \u001b[38;5;28mself\u001b[39m\u001b[38;5;241m.\u001b[39mreset(force\u001b[38;5;241m=\u001b[39m\u001b[38;5;28;01mTrue\u001b[39;00m)\n",
      "File \u001b[1;32m~\\anaconda3\\lib\\site-packages\\py2neo\\client\\bolt.py:1140\u001b[0m, in \u001b[0;36mItemizedTask.audit\u001b[1;34m(self)\u001b[0m\n\u001b[0;32m   1138\u001b[0m \u001b[38;5;28;01mdef\u001b[39;00m \u001b[38;5;21maudit\u001b[39m(\u001b[38;5;28mself\u001b[39m):\n\u001b[0;32m   1139\u001b[0m     \u001b[38;5;28;01mfor\u001b[39;00m item \u001b[38;5;129;01min\u001b[39;00m \u001b[38;5;28mself\u001b[39m\u001b[38;5;241m.\u001b[39m_items:\n\u001b[1;32m-> 1140\u001b[0m         \u001b[43mitem\u001b[49m\u001b[38;5;241;43m.\u001b[39;49m\u001b[43maudit\u001b[49m\u001b[43m(\u001b[49m\u001b[43m)\u001b[49m\n",
      "File \u001b[1;32m~\\anaconda3\\lib\\site-packages\\py2neo\\client\\bolt.py:1140\u001b[0m, in \u001b[0;36mItemizedTask.audit\u001b[1;34m(self)\u001b[0m\n\u001b[0;32m   1138\u001b[0m \u001b[38;5;28;01mdef\u001b[39;00m \u001b[38;5;21maudit\u001b[39m(\u001b[38;5;28mself\u001b[39m):\n\u001b[0;32m   1139\u001b[0m     \u001b[38;5;28;01mfor\u001b[39;00m item \u001b[38;5;129;01min\u001b[39;00m \u001b[38;5;28mself\u001b[39m\u001b[38;5;241m.\u001b[39m_items:\n\u001b[1;32m-> 1140\u001b[0m         \u001b[43mitem\u001b[49m\u001b[38;5;241;43m.\u001b[39;49m\u001b[43maudit\u001b[49m\u001b[43m(\u001b[49m\u001b[43m)\u001b[49m\n",
      "File \u001b[1;32m~\\anaconda3\\lib\\site-packages\\py2neo\\client\\bolt.py:1303\u001b[0m, in \u001b[0;36mBoltResponse.audit\u001b[1;34m(self)\u001b[0m\n\u001b[0;32m   1301\u001b[0m \u001b[38;5;28;01mif\u001b[39;00m \u001b[38;5;28mself\u001b[39m\u001b[38;5;241m.\u001b[39m_failure:\n\u001b[0;32m   1302\u001b[0m     \u001b[38;5;28mself\u001b[39m\u001b[38;5;241m.\u001b[39mset_ignored()\n\u001b[1;32m-> 1303\u001b[0m     \u001b[38;5;28;01mraise\u001b[39;00m \u001b[38;5;28mself\u001b[39m\u001b[38;5;241m.\u001b[39m_failure\n",
      "\u001b[1;31mDatabaseError\u001b[0m: [Transaction.TransactionCommitFailed] The transaction cannot be committed when it has open inner transactions."
     ]
    }
   ],
   "source": [
    "%%time\n",
    "# Create years in range of data\n",
    "delete_nodes_transactions(node_match=\"Year\")\n",
    "graph.run(\"\"\"MATCH (m:Measurement)\n",
    "             WITH MIN(m.date.year) AS min_year, MAX(m.date.year) AS max_year\n",
    "             FOREACH(y in range(min_year, max_year)\n",
    "             | CREATE (:Year{name: y}))\"\"\")\n",
    "\n",
    "# Create months\n",
    "delete_nodes_transactions(node_match=\"Month\")\n",
    "graph.run(\"\"\"FOREACH(m in range(1, 12)\n",
    "             | CREATE (:Month{name: m}))\"\"\")\n",
    "\n",
    "# Create days\n",
    "delete_nodes_transactions(node_match=\"Day\")\n",
    "graph.run(\"\"\"FOREACH(d in range(1, 31)\n",
    "             | CREATE (:Day{name: d}))\"\"\")\n",
    "\n",
    "# Create hours\n",
    "delete_nodes_transactions(node_match=\"Hour\")\n",
    "graph.run(\"\"\"FOREACH(h in range(1, 23)\n",
    "             | CREATE (:Hour{name: h}))\"\"\")"
   ]
  },
  {
   "cell_type": "code",
   "execution_count": 8,
   "metadata": {},
   "outputs": [
    {
     "name": "stdout",
     "output_type": "stream",
     "text": [
      "CPU times: total: 0 ns\n",
      "Wall time: 9min 55s\n"
     ]
    },
    {
     "data": {
      "text/html": [
       "(No data)"
      ],
      "text/plain": [
       "(No data)"
      ]
     },
     "execution_count": 8,
     "metadata": {},
     "output_type": "execute_result"
    }
   ],
   "source": [
    "%%time\n",
    "graph.run(\"\"\"MATCH (meas:Measurement)\n",
    "             MATCH (y:Year{name: meas.date.year})\n",
    "             MATCH (m:Month{name: meas.date.month})\n",
    "             MATCH (d:Day{name: meas.date.day})\n",
    "             MATCH (h:Hour{name: meas.hour.hour})\n",
    "             CALL{\n",
    "                 WITH meas, y, m, d, h\n",
    "                 MERGE (y)-[:Y_CONTAINS]->(meas)\n",
    "                 MERGE (m)-[:M_CONTAINS]->(meas)\n",
    "                 MERGE (d)-[:D_CONTAINS]->(meas)\n",
    "                 MERGE (h)-[:H_CONTAINS]->(meas)\n",
    "             } IN TRANSACTIONS OF 10000 ROWS\"\"\")"
   ]
  },
  {
   "cell_type": "code",
   "execution_count": 9,
   "metadata": {},
   "outputs": [
    {
     "name": "stdout",
     "output_type": "stream",
     "text": [
      "CPU times: total: 0 ns\n",
      "Wall time: 27.9 ms\n"
     ]
    },
    {
     "data": {
      "text/html": [
       "<table><tr><th>count(*)</th></tr><tr><td style=\"text-align:right\">43803960</td></tr></table>"
      ],
      "text/plain": [
       " count(*) \n",
       "----------\n",
       " 43803960 "
      ]
     },
     "execution_count": 9,
     "metadata": {},
     "output_type": "execute_result"
    }
   ],
   "source": [
    "%%time\n",
    "# See number of edges we added for this (surprisingly fast)\n",
    "graph.run(\"MATCH ()-[:Y_CONTAINS|:M_CONTAINS|:D_CONTAINS|:H_CONTAINS]->() RETURN count(*)\")"
   ]
  },
  {
   "cell_type": "markdown",
   "metadata": {},
   "source": [
    "## Búsqueda usando subgrafo temporal (sin índices)"
   ]
  },
  {
   "cell_type": "code",
   "execution_count": 10,
   "metadata": {},
   "outputs": [
    {
     "name": "stdout",
     "output_type": "stream",
     "text": [
      "Execution times: [9.47747540473938, 1.0602905750274658, 0.725531816482544, 0.7418875694274902, 0.7572507858276367, 0.6563670635223389, 0.8874599933624268, 0.7758076190948486, 0.7969660758972168, 0.8148467540740967]\n",
      "Execution time per round: 1.6694±2.6048s (156.03%)\n"
     ]
    },
    {
     "data": {
      "text/html": [
       "<div>\n",
       "<style scoped>\n",
       "    .dataframe tbody tr th:only-of-type {\n",
       "        vertical-align: middle;\n",
       "    }\n",
       "\n",
       "    .dataframe tbody tr th {\n",
       "        vertical-align: top;\n",
       "    }\n",
       "\n",
       "    .dataframe thead th {\n",
       "        text-align: right;\n",
       "    }\n",
       "</style>\n",
       "<table border=\"1\" class=\"dataframe\">\n",
       "  <thead>\n",
       "    <tr style=\"text-align: right;\">\n",
       "      <th></th>\n",
       "      <th>m</th>\n",
       "    </tr>\n",
       "  </thead>\n",
       "  <tbody>\n",
       "    <tr>\n",
       "      <th>0</th>\n",
       "      <td>{'station_name': 'MT/A934/ALTO TAQUARI', 'date...</td>\n",
       "    </tr>\n",
       "    <tr>\n",
       "      <th>1</th>\n",
       "      <td>{'station_name': 'MS/S710/ITAPORA', 'date': 20...</td>\n",
       "    </tr>\n",
       "    <tr>\n",
       "      <th>2</th>\n",
       "      <td>{'station_name': 'GO/A025/RIO VERDE', 'date': ...</td>\n",
       "    </tr>\n",
       "    <tr>\n",
       "      <th>3</th>\n",
       "      <td>{'station_name': 'MS/S711/LAGUNA CARAPA', 'dat...</td>\n",
       "    </tr>\n",
       "    <tr>\n",
       "      <th>4</th>\n",
       "      <td>{'station_name': 'MS/A730/CHAPADAO DO SUL', 'd...</td>\n",
       "    </tr>\n",
       "    <tr>\n",
       "      <th>...</th>\n",
       "      <td>...</td>\n",
       "    </tr>\n",
       "    <tr>\n",
       "      <th>107</th>\n",
       "      <td>{'station_name': 'MT/A904/SORRISO', 'date': 20...</td>\n",
       "    </tr>\n",
       "    <tr>\n",
       "      <th>108</th>\n",
       "      <td>{'date': 2019-01-01, 'station_name': 'GO/A024/...</td>\n",
       "    </tr>\n",
       "    <tr>\n",
       "      <th>109</th>\n",
       "      <td>{'station_name': 'MT/A929/NOVA UBIRATA', 'date...</td>\n",
       "    </tr>\n",
       "    <tr>\n",
       "      <th>110</th>\n",
       "      <td>{'station_name': 'GO/A013/ARAGARCAS', 'date': ...</td>\n",
       "    </tr>\n",
       "    <tr>\n",
       "      <th>111</th>\n",
       "      <td>{'station_name': 'MS/A756/AGUA CLARA', 'date':...</td>\n",
       "    </tr>\n",
       "  </tbody>\n",
       "</table>\n",
       "<p>112 rows × 1 columns</p>\n",
       "</div>"
      ],
      "text/plain": [
       "                                                     m\n",
       "0    {'station_name': 'MT/A934/ALTO TAQUARI', 'date...\n",
       "1    {'station_name': 'MS/S710/ITAPORA', 'date': 20...\n",
       "2    {'station_name': 'GO/A025/RIO VERDE', 'date': ...\n",
       "3    {'station_name': 'MS/S711/LAGUNA CARAPA', 'dat...\n",
       "4    {'station_name': 'MS/A730/CHAPADAO DO SUL', 'd...\n",
       "..                                                 ...\n",
       "107  {'station_name': 'MT/A904/SORRISO', 'date': 20...\n",
       "108  {'date': 2019-01-01, 'station_name': 'GO/A024/...\n",
       "109  {'station_name': 'MT/A929/NOVA UBIRATA', 'date...\n",
       "110  {'station_name': 'GO/A013/ARAGARCAS', 'date': ...\n",
       "111  {'station_name': 'MS/A756/AGUA CLARA', 'date':...\n",
       "\n",
       "[112 rows x 1 columns]"
      ]
     },
     "execution_count": 10,
     "metadata": {},
     "output_type": "execute_result"
    }
   ],
   "source": [
    "# Try matching without index\n",
    "query_date_time_subgraph = \"\"\"MATCH (m:Measurement)<--(:Year{name:2019}),\n",
    "                                 (m)<--(:Month{name:1}),\n",
    "                                 (m)<--(:Day{name:1}),\n",
    "                                 (m)<--(:Hour{name:2})\n",
    "                           RETURN m\"\"\"\n",
    "res_3, times_3 = evaluate_query(query_date_time_subgraph, n=10)\n",
    "res_3"
   ]
  },
  {
   "cell_type": "code",
   "execution_count": 11,
   "metadata": {},
   "outputs": [
    {
     "data": {
      "text/html": [
       "<div>\n",
       "<style scoped>\n",
       "    .dataframe tbody tr th:only-of-type {\n",
       "        vertical-align: middle;\n",
       "    }\n",
       "\n",
       "    .dataframe tbody tr th {\n",
       "        vertical-align: top;\n",
       "    }\n",
       "\n",
       "    .dataframe thead th {\n",
       "        text-align: right;\n",
       "    }\n",
       "</style>\n",
       "<table border=\"1\" class=\"dataframe\">\n",
       "  <thead>\n",
       "    <tr style=\"text-align: right;\">\n",
       "      <th></th>\n",
       "      <th>id</th>\n",
       "      <th>name</th>\n",
       "      <th>state</th>\n",
       "      <th>populationPercent</th>\n",
       "      <th>uniqueness</th>\n",
       "      <th>type</th>\n",
       "      <th>entityType</th>\n",
       "      <th>labelsOrTypes</th>\n",
       "      <th>properties</th>\n",
       "      <th>indexProvider</th>\n",
       "    </tr>\n",
       "  </thead>\n",
       "  <tbody>\n",
       "    <tr>\n",
       "      <th>0</th>\n",
       "      <td>5</td>\n",
       "      <td>UniqueMeasurementStationTime</td>\n",
       "      <td>ONLINE</td>\n",
       "      <td>100.0</td>\n",
       "      <td>UNIQUE</td>\n",
       "      <td>BTREE</td>\n",
       "      <td>NODE</td>\n",
       "      <td>[Measurement]</td>\n",
       "      <td>[station_name, name]</td>\n",
       "      <td>native-btree-1.0</td>\n",
       "    </tr>\n",
       "    <tr>\n",
       "      <th>1</th>\n",
       "      <td>3</td>\n",
       "      <td>UniqueStationName</td>\n",
       "      <td>ONLINE</td>\n",
       "      <td>100.0</td>\n",
       "      <td>UNIQUE</td>\n",
       "      <td>BTREE</td>\n",
       "      <td>NODE</td>\n",
       "      <td>[Station]</td>\n",
       "      <td>[name]</td>\n",
       "      <td>native-btree-1.0</td>\n",
       "    </tr>\n",
       "  </tbody>\n",
       "</table>\n",
       "</div>"
      ],
      "text/plain": [
       "   id                          name   state  populationPercent uniqueness  \\\n",
       "0   5  UniqueMeasurementStationTime  ONLINE              100.0     UNIQUE   \n",
       "1   3             UniqueStationName  ONLINE              100.0     UNIQUE   \n",
       "\n",
       "    type entityType  labelsOrTypes            properties     indexProvider  \n",
       "0  BTREE       NODE  [Measurement]  [station_name, name]  native-btree-1.0  \n",
       "1  BTREE       NODE      [Station]                [name]  native-btree-1.0  "
      ]
     },
     "execution_count": 11,
     "metadata": {},
     "output_type": "execute_result"
    }
   ],
   "source": [
    "# Make sure there are no mysterious indices created before proceeding\n",
    "graph.run(\"DROP INDEX index_343aff4e IF EXISTS\")\n",
    "graph.run(\"DROP INDEX index_f7700477 IF EXISTS\")\n",
    "\n",
    "graph.run(\"SHOW INDEXES\").to_data_frame()"
   ]
  },
  {
   "cell_type": "markdown",
   "metadata": {},
   "source": [
    "## Subgrafo temporal con un nodo para cada día del año (no funciona)"
   ]
  },
  {
   "cell_type": "code",
   "execution_count": 13,
   "metadata": {},
   "outputs": [
    {
     "data": {
      "text/html": [
       "(No data)"
      ],
      "text/plain": [
       "(No data)"
      ]
     },
     "execution_count": 13,
     "metadata": {},
     "output_type": "execute_result"
    }
   ],
   "source": [
    "# Temporal graph but hierarchical\n",
    "\n",
    "#Create years in range of data\n",
    "graph.run(\"\"\"MATCH (d:DateTime) DETACH DELETE d RETURN count(d)\"\"\")\n",
    "\n",
    "graph.run(\"\"\"MATCH (meas:Measurement)\n",
    "             WITH MIN(meas.date.year) AS min_year, MAX(meas.date.year) AS max_year\n",
    "             FOREACH(y in range(min_year, max_year)\n",
    "             | FOREACH(m in range(1, 12)\n",
    "               | FOREACH(d in range(1, 31)\n",
    "                 | FOREACH(h in range(0, 23) |\n",
    "                   CREATE (dt:DateTime{year: y, month: m, day: d, hour: h})))))\"\"\")"
   ]
  },
  {
   "cell_type": "code",
   "execution_count": 14,
   "metadata": {
    "scrolled": true
   },
   "outputs": [
    {
     "data": {
      "text/html": [
       "<table><tr><th>COUNT(d)</th></tr><tr><td style=\"text-align:right\">196416</td></tr></table>"
      ],
      "text/plain": [
       " COUNT(d) \n",
       "----------\n",
       "   196416 "
      ]
     },
     "execution_count": 14,
     "metadata": {},
     "output_type": "execute_result"
    }
   ],
   "source": [
    "graph.run(\"MATCH (d:DateTime) RETURN COUNT(d)\")"
   ]
  },
  {
   "cell_type": "code",
   "execution_count": 15,
   "metadata": {
    "scrolled": true
   },
   "outputs": [
    {
     "name": "stdout",
     "output_type": "stream",
     "text": [
      "CPU times: total: 0 ns\n",
      "Wall time: 14.4 s\n"
     ]
    },
    {
     "data": {
      "text/html": [
       "(No data)"
      ],
      "text/plain": [
       "(No data)"
      ]
     },
     "execution_count": 15,
     "metadata": {},
     "output_type": "execute_result"
    }
   ],
   "source": [
    "%%time\n",
    "graph.run(\"\"\"MATCH (date_time:DateTime)\n",
    "             MATCH (y:Year{name: date_time.year})\n",
    "             MATCH (m:Month{name: date_time.month})\n",
    "             MATCH (d:Day{name: date_time.day})\n",
    "             MATCH (h:Hour{name: date_time.hour})\n",
    "             CALL{\n",
    "                 WITH date_time, y, m, d, h\n",
    "                 MERGE (y)-[:YEAR_OF]->(date_time)\n",
    "                 MERGE (m)-[:MONTH_OF]->(date_time)\n",
    "                 MERGE (d)-[:DAY_OF]->(date_time)\n",
    "                 MERGE (h)-[:HOUR_OF]->(date_time)\n",
    "             } IN TRANSACTIONS OF 10000 ROWS\"\"\")"
   ]
  },
  {
   "cell_type": "code",
   "execution_count": null,
   "metadata": {
    "scrolled": true
   },
   "outputs": [],
   "source": [
    "%%time\n",
    "# Esta consulta sin crear las relaciones entre DateTime con Year, Month, Day, Hour, se vuelve intractable\n",
    "graph.run(\"\"\"MATCH (meas:Measurement)\n",
    "              MATCH (d:DateTime{year: meas.date.year, month: meas.date.month, day: meas.date.day, hour: meas.hour.hour})\n",
    "              CALL{\n",
    "                  WITH meas, d\n",
    "                  MERGE (d)-[:I_CONTAINS]->(meas)\n",
    "              } IN TRANSACTIONS OF 10000 ROWS\"\"\")\n",
    "\n",
    "\n",
    "# Esta consulta también es intractable:\n",
    "# graph.run(\"\"\"MATCH (meas:Measurement)\n",
    "#              MATCH (:Year{name:meas.date.year})-[:YEAR_OF]->(dt:DateTime),\n",
    "#                    (:Month{name:meas.date.month})-[:MONTH_OF]->(dt:DateTime),\n",
    "#                    (:Day{name:meas.date.day})-[:DAY_OF]->(dt:DateTime),\n",
    "#                    (:Hour{name:meas.hour.hour})-[:HOUR_OF]->(dt:DateTime)\n",
    "#              CALL{\n",
    "#                  WITH meas, dt\n",
    "#                  MERGE (dt)-[:I_CONTAINS]->(meas)\n",
    "#              } IN TRANSACTIONS OF 10000 ROWS\"\"\")"
   ]
  },
  {
   "cell_type": "code",
   "execution_count": null,
   "metadata": {},
   "outputs": [],
   "source": [
    "# Estas consultas no se pueden hacer porque trazar los edges demora demasiado (consulta anterior)\n",
    "# query_datetime = \"\"\"MATCH (m:Measurement)<--(:DateTime{year:2019, month:1, day:1, hour: 2})\n",
    "#                            RETURN m\"\"\"\n",
    "# res_4, times_4 = evaluate_query(query_datetime, n=10)\n",
    "# res_4\n",
    "\n",
    "# query_date_subgraph = \"\"\"MATCH (m:Measurement)<--(dt:DateTime)<--(:Year{name:m.date.year}),\n",
    "#                                (dt:DateTime)<--(:Month{name:m.date.month}),\n",
    "#                                (dt:DateTime)<--(:Day{name:m.date.day}),\n",
    "#                                (dt:DateTime)<--(:Hour{name:m.hour.hour})\n",
    "#                            RETURN m\"\"\"\n",
    "# res_5, times_5 = evaluate_query(query_date_subgraph, n=10)\n",
    "# res_5"
   ]
  },
  {
   "cell_type": "markdown",
   "metadata": {},
   "source": [
    "## Comparación de búsquedas sin índices"
   ]
  },
  {
   "cell_type": "code",
   "execution_count": 18,
   "metadata": {},
   "outputs": [
    {
     "data": {
      "image/png": "[encoded data removed]",
      "text/plain": [
       "<Figure size 720x432 with 1 Axes>"
      ]
     },
     "metadata": {
      "needs_background": "light"
     },
     "output_type": "display_data"
    }
   ],
   "source": [
    "plot_exec_times([times_1, times_2, times_3[:3]], [\"Búsqueda por nodos (sin índices)\", \"Búsqueda por edges (sin índices)\", \"Búsqueda con subgrafo temporal (sin índices)\"])"
   ]
  },
  {
   "cell_type": "markdown",
   "metadata": {},
   "source": [
    "## Búsqueda temporal con índices"
   ]
  },
  {
   "cell_type": "code",
   "execution_count": 21,
   "metadata": {},
   "outputs": [
    {
     "data": {
      "text/html": [
       "<div>\n",
       "<style scoped>\n",
       "    .dataframe tbody tr th:only-of-type {\n",
       "        vertical-align: middle;\n",
       "    }\n",
       "\n",
       "    .dataframe tbody tr th {\n",
       "        vertical-align: top;\n",
       "    }\n",
       "\n",
       "    .dataframe thead th {\n",
       "        text-align: right;\n",
       "    }\n",
       "</style>\n",
       "<table border=\"1\" class=\"dataframe\">\n",
       "  <thead>\n",
       "    <tr style=\"text-align: right;\">\n",
       "      <th></th>\n",
       "      <th>id</th>\n",
       "      <th>name</th>\n",
       "      <th>state</th>\n",
       "      <th>populationPercent</th>\n",
       "      <th>uniqueness</th>\n",
       "      <th>type</th>\n",
       "      <th>entityType</th>\n",
       "      <th>labelsOrTypes</th>\n",
       "      <th>properties</th>\n",
       "      <th>indexProvider</th>\n",
       "    </tr>\n",
       "  </thead>\n",
       "  <tbody>\n",
       "    <tr>\n",
       "      <th>0</th>\n",
       "      <td>7</td>\n",
       "      <td>UniqueMeasurementStationTime</td>\n",
       "      <td>ONLINE</td>\n",
       "      <td>100.0</td>\n",
       "      <td>UNIQUE</td>\n",
       "      <td>BTREE</td>\n",
       "      <td>NODE</td>\n",
       "      <td>[Measurement]</td>\n",
       "      <td>[station_name, name]</td>\n",
       "      <td>native-btree-1.0</td>\n",
       "    </tr>\n",
       "    <tr>\n",
       "      <th>1</th>\n",
       "      <td>3</td>\n",
       "      <td>UniqueStationName</td>\n",
       "      <td>ONLINE</td>\n",
       "      <td>100.0</td>\n",
       "      <td>UNIQUE</td>\n",
       "      <td>BTREE</td>\n",
       "      <td>NODE</td>\n",
       "      <td>[Station]</td>\n",
       "      <td>[name]</td>\n",
       "      <td>native-btree-1.0</td>\n",
       "    </tr>\n",
       "    <tr>\n",
       "      <th>2</th>\n",
       "      <td>6</td>\n",
       "      <td>meas_date</td>\n",
       "      <td>ONLINE</td>\n",
       "      <td>100.0</td>\n",
       "      <td>NONUNIQUE</td>\n",
       "      <td>BTREE</td>\n",
       "      <td>NODE</td>\n",
       "      <td>[Measurement]</td>\n",
       "      <td>[date]</td>\n",
       "      <td>native-btree-1.0</td>\n",
       "    </tr>\n",
       "    <tr>\n",
       "      <th>3</th>\n",
       "      <td>5</td>\n",
       "      <td>meas_hour</td>\n",
       "      <td>ONLINE</td>\n",
       "      <td>100.0</td>\n",
       "      <td>NONUNIQUE</td>\n",
       "      <td>BTREE</td>\n",
       "      <td>NODE</td>\n",
       "      <td>[Measurement]</td>\n",
       "      <td>[hour]</td>\n",
       "      <td>native-btree-1.0</td>\n",
       "    </tr>\n",
       "    <tr>\n",
       "      <th>4</th>\n",
       "      <td>1</td>\n",
       "      <td>rel_meas</td>\n",
       "      <td>ONLINE</td>\n",
       "      <td>100.0</td>\n",
       "      <td>NONUNIQUE</td>\n",
       "      <td>BTREE</td>\n",
       "      <td>RELATIONSHIP</td>\n",
       "      <td>[MEASURED]</td>\n",
       "      <td>[date, hour]</td>\n",
       "      <td>native-btree-1.0</td>\n",
       "    </tr>\n",
       "  </tbody>\n",
       "</table>\n",
       "</div>"
      ],
      "text/plain": [
       "   id                          name   state  populationPercent uniqueness  \\\n",
       "0   7  UniqueMeasurementStationTime  ONLINE              100.0     UNIQUE   \n",
       "1   3             UniqueStationName  ONLINE              100.0     UNIQUE   \n",
       "2   6                     meas_date  ONLINE              100.0  NONUNIQUE   \n",
       "3   5                     meas_hour  ONLINE              100.0  NONUNIQUE   \n",
       "4   1                      rel_meas  ONLINE              100.0  NONUNIQUE   \n",
       "\n",
       "    type    entityType  labelsOrTypes            properties     indexProvider  \n",
       "0  BTREE          NODE  [Measurement]  [station_name, name]  native-btree-1.0  \n",
       "1  BTREE          NODE      [Station]                [name]  native-btree-1.0  \n",
       "2  BTREE          NODE  [Measurement]                [date]  native-btree-1.0  \n",
       "3  BTREE          NODE  [Measurement]                [hour]  native-btree-1.0  \n",
       "4  BTREE  RELATIONSHIP     [MEASURED]          [date, hour]  native-btree-1.0  "
      ]
     },
     "execution_count": 21,
     "metadata": {},
     "output_type": "execute_result"
    }
   ],
   "source": [
    "\n",
    "# ATENCIÓN: Correr esta celda hasta que los nodos pasen de POPULATING a ONLINE\n",
    "graph.run(\"\"\"CREATE INDEX meas_hour IF NOT EXISTS\n",
    "             FOR (m:Measurement)\n",
    "             ON (m.hour)\"\"\")\n",
    "\n",
    "graph.run(\"\"\"CREATE INDEX meas_date IF NOT EXISTS\n",
    "             FOR (m:Measurement)\n",
    "             ON (m.date)\"\"\")\n",
    "\n",
    "graph.run(\"\"\"CREATE INDEX rel_meas IF NOT EXISTS\n",
    "             FOR ()-[r:MEASURED]-()\n",
    "             ON (r.date, r.hour)\"\"\")\n",
    "\n",
    "graph.run(\"SHOW INDEXES\").to_data_frame()"
   ]
  },
  {
   "cell_type": "code",
   "execution_count": 22,
   "metadata": {},
   "outputs": [
    {
     "name": "stdout",
     "output_type": "stream",
     "text": [
      "Búsqueda por nodos, con índices...\n",
      "Execution times: [0.4191169738769531, 0.01900792121887207, 0.012678861618041992, 0.008735895156860352, 0.013390064239501953, 0.008461952209472656, 0.01242375373840332, 0.008865833282470703, 0.008442163467407227, 0.013309240341186523]\n",
      "Execution time per round: 0.0524±0.1223s (233.14%)\n",
      "\n",
      "\n",
      "Búsqueda por vértices, con índices (en los nodos)...\n",
      "Execution times: [0.21536016464233398, 0.017711877822875977, 0.0071561336517333984, 0.012045145034790039, 0.007701873779296875, 0.006041049957275391, 0.008539915084838867, 0.00658106803894043, 0.0070438385009765625, 0.00736689567565918]\n",
      "Execution time per round: 0.0296±0.0620s (209.86%)\n",
      "\n",
      "\n",
      "Búsqueda con subgrafo temporal, con índices\n",
      "Execution times: [1.8639309406280518, 1.5979211330413818, 1.3097078800201416, 1.2705090045928955, 1.2600369453430176, 1.361642837524414, 1.2621302604675293, 1.2022271156311035, 1.198091983795166, 1.2040977478027344]\n",
      "Execution time per round: 1.3530±0.2039s (15.07%)\n"
     ]
    }
   ],
   "source": [
    "# WARNING: Correr la celda anterior hasta que los índices pasen de POPULATING a ONLINE\n",
    "query_date_time_nodes = \"\"\"MATCH (s:Station)-->(m:Measurement)\n",
    "                           WHERE m.hour = time(\"2:00\") AND m.date = date(\"2019-01-01\")\n",
    "                           RETURN m\"\"\"\n",
    "\n",
    "query_date_time_edges = \"\"\"MATCH (s:Station)\n",
    "                        -[:MEASURED{hour: time(\"2:00\"), date:date(\"2019-01-01\")}]\n",
    "                        ->(m:Measurement)\n",
    "                        RETURN m\"\"\"\n",
    "\n",
    "query_date_time_subgraph = \"\"\"MATCH (m:Measurement)<--(:Year{name:2019}),\n",
    "                                 (m)<--(:Month{name:1}),\n",
    "                                 (m)<--(:Day{name:1}),\n",
    "                                 (m)<--(:Hour{name:2})\n",
    "                           RETURN m\"\"\"\n",
    "\n",
    "print(\"Búsqueda por nodos, con índices...\")\n",
    "res_1, times_1 = evaluate_query(query_date_time_nodes, n=10)\n",
    "\n",
    "\n",
    "print(\"\\n\\nBúsqueda por vértices, con índices (en los nodos)...\")\n",
    "res_2, times_2 = evaluate_query(query_date_time_edges, n=10)\n",
    "\n",
    "\n",
    "print(\"\\n\\nBúsqueda con subgrafo temporal, con índices\")\n",
    "res_3, times_3 = evaluate_query(query_date_time_subgraph, n=10)\n",
    "\n",
    "assert len(res_2) == len(res_3)"
   ]
  },
  {
   "cell_type": "code",
   "execution_count": 23,
   "metadata": {},
   "outputs": [
    {
     "data": {
      "image/png": "[encoded data removed]",
      "text/plain": [
       "<Figure size 720x432 with 1 Axes>"
      ]
     },
     "metadata": {
      "needs_background": "light"
     },
     "output_type": "display_data"
    }
   ],
   "source": [
    "plot_exec_times([times_1, times_2, times_3], [\"Búsqueda por nodos (con índices)\", \"Búsqueda por edges (con índices)\", \"Búsqueda con subgrafo temporal (con índices)\"])"
   ]
  },
  {
   "cell_type": "code",
   "execution_count": 24,
   "metadata": {},
   "outputs": [
    {
     "name": "stdout",
     "output_type": "stream",
     "text": [
      "CPU times: user 6.92 ms, sys: 4.84 ms, total: 11.8 ms\n",
      "Wall time: 3min 8s\n"
     ]
    },
    {
     "data": {
      "text/html": [
       "(No data)"
      ],
      "text/plain": [
       "(No data)"
      ]
     },
     "execution_count": 24,
     "metadata": {},
     "output_type": "execute_result"
    }
   ],
   "source": [
    "%%time\n",
    "# Vuelvo a correr esto a ver si se vuelven a crear los índices automáticos index_...\n",
    "graph.run(\"\"\"MATCH (meas:Measurement)\n",
    "             MATCH (y:Year{name: meas.date.year})\n",
    "             MATCH (m:Month{name: meas.date.month})\n",
    "             MATCH (d:Day{name: meas.date.day})\n",
    "             MATCH (h:Hour{name: meas.hour.hour})\n",
    "             CALL{\n",
    "                 WITH meas, y, m, d, h\n",
    "                 MERGE (y)-[:Y_CONTAINS]->(meas)\n",
    "                 MERGE (m)-[:M_CONTAINS]->(meas)\n",
    "                 MERGE (d)-[:D_CONTAINS]->(meas)\n",
    "                 MERGE (h)-[:H_CONTAINS]->(meas)\n",
    "             } IN TRANSACTIONS OF 10000 ROWS\"\"\")"
   ]
  },
  {
   "cell_type": "code",
   "execution_count": 25,
   "metadata": {},
   "outputs": [
    {
     "data": {
      "text/html": [
       "<div>\n",
       "<style scoped>\n",
       "    .dataframe tbody tr th:only-of-type {\n",
       "        vertical-align: middle;\n",
       "    }\n",
       "\n",
       "    .dataframe tbody tr th {\n",
       "        vertical-align: top;\n",
       "    }\n",
       "\n",
       "    .dataframe thead th {\n",
       "        text-align: right;\n",
       "    }\n",
       "</style>\n",
       "<table border=\"1\" class=\"dataframe\">\n",
       "  <thead>\n",
       "    <tr style=\"text-align: right;\">\n",
       "      <th></th>\n",
       "      <th>id</th>\n",
       "      <th>name</th>\n",
       "      <th>state</th>\n",
       "      <th>populationPercent</th>\n",
       "      <th>uniqueness</th>\n",
       "      <th>type</th>\n",
       "      <th>entityType</th>\n",
       "      <th>labelsOrTypes</th>\n",
       "      <th>properties</th>\n",
       "      <th>indexProvider</th>\n",
       "    </tr>\n",
       "  </thead>\n",
       "  <tbody>\n",
       "    <tr>\n",
       "      <th>0</th>\n",
       "      <td>7</td>\n",
       "      <td>UniqueMeasurementStationTime</td>\n",
       "      <td>ONLINE</td>\n",
       "      <td>100.0</td>\n",
       "      <td>UNIQUE</td>\n",
       "      <td>BTREE</td>\n",
       "      <td>NODE</td>\n",
       "      <td>[Measurement]</td>\n",
       "      <td>[station_name, name]</td>\n",
       "      <td>native-btree-1.0</td>\n",
       "    </tr>\n",
       "    <tr>\n",
       "      <th>1</th>\n",
       "      <td>3</td>\n",
       "      <td>UniqueStationName</td>\n",
       "      <td>ONLINE</td>\n",
       "      <td>100.0</td>\n",
       "      <td>UNIQUE</td>\n",
       "      <td>BTREE</td>\n",
       "      <td>NODE</td>\n",
       "      <td>[Station]</td>\n",
       "      <td>[name]</td>\n",
       "      <td>native-btree-1.0</td>\n",
       "    </tr>\n",
       "    <tr>\n",
       "      <th>2</th>\n",
       "      <td>6</td>\n",
       "      <td>meas_date</td>\n",
       "      <td>ONLINE</td>\n",
       "      <td>100.0</td>\n",
       "      <td>NONUNIQUE</td>\n",
       "      <td>BTREE</td>\n",
       "      <td>NODE</td>\n",
       "      <td>[Measurement]</td>\n",
       "      <td>[date]</td>\n",
       "      <td>native-btree-1.0</td>\n",
       "    </tr>\n",
       "    <tr>\n",
       "      <th>3</th>\n",
       "      <td>5</td>\n",
       "      <td>meas_hour</td>\n",
       "      <td>ONLINE</td>\n",
       "      <td>100.0</td>\n",
       "      <td>NONUNIQUE</td>\n",
       "      <td>BTREE</td>\n",
       "      <td>NODE</td>\n",
       "      <td>[Measurement]</td>\n",
       "      <td>[hour]</td>\n",
       "      <td>native-btree-1.0</td>\n",
       "    </tr>\n",
       "    <tr>\n",
       "      <th>4</th>\n",
       "      <td>1</td>\n",
       "      <td>rel_meas</td>\n",
       "      <td>ONLINE</td>\n",
       "      <td>100.0</td>\n",
       "      <td>NONUNIQUE</td>\n",
       "      <td>BTREE</td>\n",
       "      <td>RELATIONSHIP</td>\n",
       "      <td>[MEASURED]</td>\n",
       "      <td>[date, hour]</td>\n",
       "      <td>native-btree-1.0</td>\n",
       "    </tr>\n",
       "  </tbody>\n",
       "</table>\n",
       "</div>"
      ],
      "text/plain": [
       "   id                          name   state  populationPercent uniqueness  \\\n",
       "0   7  UniqueMeasurementStationTime  ONLINE              100.0     UNIQUE   \n",
       "1   3             UniqueStationName  ONLINE              100.0     UNIQUE   \n",
       "2   6                     meas_date  ONLINE              100.0  NONUNIQUE   \n",
       "3   5                     meas_hour  ONLINE              100.0  NONUNIQUE   \n",
       "4   1                      rel_meas  ONLINE              100.0  NONUNIQUE   \n",
       "\n",
       "    type    entityType  labelsOrTypes            properties     indexProvider  \n",
       "0  BTREE          NODE  [Measurement]  [station_name, name]  native-btree-1.0  \n",
       "1  BTREE          NODE      [Station]                [name]  native-btree-1.0  \n",
       "2  BTREE          NODE  [Measurement]                [date]  native-btree-1.0  \n",
       "3  BTREE          NODE  [Measurement]                [hour]  native-btree-1.0  \n",
       "4  BTREE  RELATIONSHIP     [MEASURED]          [date, hour]  native-btree-1.0  "
      ]
     },
     "execution_count": 25,
     "metadata": {},
     "output_type": "execute_result"
    }
   ],
   "source": [
    "graph.run(\"SHOW INDEXES\").to_data_frame()"
   ]
  },
  {
   "cell_type": "code",
   "execution_count": 26,
   "metadata": {},
   "outputs": [
    {
     "name": "stdout",
     "output_type": "stream",
     "text": [
      "\n",
      "\n",
      "Búsqueda con subgrafo temporal, con índices\n",
      "Execution times: [1.7273948192596436, 1.5610051155090332, 1.2974231243133545, 1.2672882080078125, 1.2637171745300293, 1.2400312423706055, 1.2375450134277344, 1.235694169998169, 1.2338547706604004, 1.2297511100769043]\n",
      "Execution time per round: 1.3294±0.1629s (12.26%)\n"
     ]
    },
    {
     "data": {
      "image/png": "[encoded data removed]",
      "text/plain": [
       "<Figure size 720x432 with 1 Axes>"
      ]
     },
     "metadata": {
      "needs_background": "light"
     },
     "output_type": "display_data"
    }
   ],
   "source": [
    "# Vuelvo a correr la consulta 3 a ver si mejora\n",
    "print(\"\\n\\nBúsqueda con subgrafo temporal, con índices\")\n",
    "res_3_re, times_3_re = evaluate_query(query_date_time_subgraph, n=10)\n",
    "plot_exec_times([times_1, times_2, times_3_re], [\"Búsqueda por nodos (con índices)\", \"Búsqueda por edges (con índices)\", \"Búsqueda con subgrafo temporal (con índices automáticos)\"])"
   ]
  },
  {
   "cell_type": "markdown",
   "metadata": {},
   "source": [
    "### Comentarios sobre las celdas anteriores\n",
    "\n",
    "Luego de crear los índices, deja de tener sentido correr la consulta con subgrafo temporal, ya que enlentece.\n",
    "\n",
    "Había algunos índices que se crean sólos, llamados \"index_...\", con los que la consulta con el subgrafo temporal andaba mucho más rápido. No sé como recrearlos, el intento de las últimas celdas no funcionó.\n",
    "\n",
    "Otra cosa a mencionar es que cuando las consultas se vuelven untractable, no hay forma de cortar la ejecución sin matar los procesos de java, que generan inconsistencias de datos. Darle stop al servidor demora muchísimo, e incluso después deja un proceso huérfano de java que nunca termina y consume significativa CPU (como si continuara ejecutando la consulta)."
   ]
  },
  {
   "cell_type": "code",
   "execution_count": null,
   "metadata": {},
   "outputs": [],
   "source": [
    "%%time\n",
    "graph.run(\"\"\"MATCH (s:Measurement),(r:Measurement)\n",
    "             WHERE s.station_name = \"DF/A047/PARANOA (COOPA-DF)\" and s.name = \"2017-12-20T14:00\" and s.name = r.name\n",
    "             WITH s,r,round(point.distance(point({longitude: s.longitude, latitude: s.latitude}), point({longitude: r.longitude, latitude: r.latitude})))/1000 AS travelDistance\n",
    "             WHERE travelDistance < 100\n",
    "             RETURN r.station_name, travelDistance, r.temperature\n",
    "             ORDER BY travelDistance\"\"\")"
   ]
  }
 ],
 "metadata": {
  "kernelspec": {
   "display_name": "Python 3 (ipykernel)",
   "language": "python",
   "name": "python3"
  },
  "language_info": {
   "codemirror_mode": {
    "name": "ipython",
    "version": 3
   },
   "file_extension": ".py",
   "mimetype": "text/x-python",
   "name": "python",
   "nbconvert_exporter": "python",
   "pygments_lexer": "ipython3",
   "version": "3.9.12"
  }
 },
 "nbformat": 4,
 "nbformat_minor": 4
}
